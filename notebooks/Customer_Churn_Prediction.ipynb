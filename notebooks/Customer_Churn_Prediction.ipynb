{
  "cells": [
    {
      "cell_type": "code",
      "execution_count": 4,
      "metadata": {},
      "outputs": [
        {
          "name": "stdout",
          "output_type": "stream",
          "text": [
            "Requirement already satisfied: pip in c:\\users\\saibh\\appdata\\local\\programs\\python\\python313\\lib\\site-packages (24.2)\n",
            "Collecting pip\n",
            "  Using cached pip-25.0.1-py3-none-any.whl.metadata (3.7 kB)\n",
            "Using cached pip-25.0.1-py3-none-any.whl (1.8 MB)\n",
            "Installing collected packages: pip\n",
            "  Attempting uninstall: pip\n",
            "    Found existing installation: pip 24.2\n",
            "    Uninstalling pip-24.2:\n",
            "      Successfully uninstalled pip-24.2\n",
            "Successfully installed pip-25.0.1\n",
            "Note: you may need to restart the kernel to use updated packages.\n",
            "Requirement already satisfied: matplotlib in c:\\users\\saibh\\appdata\\local\\programs\\python\\python313\\lib\\site-packages (3.10.1)\n",
            "Requirement already satisfied: seaborn in c:\\users\\saibh\\appdata\\local\\programs\\python\\python313\\lib\\site-packages (0.13.2)\n",
            "Requirement already satisfied: shap in c:\\users\\saibh\\appdata\\local\\programs\\python\\python313\\lib\\site-packages (0.47.1)\n",
            "Requirement already satisfied: joblib in c:\\users\\saibh\\appdata\\local\\programs\\python\\python313\\lib\\site-packages (1.4.2)\n",
            "Requirement already satisfied: scikit-learn in c:\\users\\saibh\\appdata\\local\\programs\\python\\python313\\lib\\site-packages (1.6.1)\n",
            "Requirement already satisfied: contourpy>=1.0.1 in c:\\users\\saibh\\appdata\\local\\programs\\python\\python313\\lib\\site-packages (from matplotlib) (1.3.1)\n",
            "Requirement already satisfied: cycler>=0.10 in c:\\users\\saibh\\appdata\\local\\programs\\python\\python313\\lib\\site-packages (from matplotlib) (0.12.1)\n",
            "Requirement already satisfied: fonttools>=4.22.0 in c:\\users\\saibh\\appdata\\local\\programs\\python\\python313\\lib\\site-packages (from matplotlib) (4.56.0)\n",
            "Requirement already satisfied: kiwisolver>=1.3.1 in c:\\users\\saibh\\appdata\\local\\programs\\python\\python313\\lib\\site-packages (from matplotlib) (1.4.8)\n",
            "Requirement already satisfied: numpy>=1.23 in c:\\users\\saibh\\appdata\\local\\programs\\python\\python313\\lib\\site-packages (from matplotlib) (2.1.3)\n",
            "Requirement already satisfied: packaging>=20.0 in c:\\users\\saibh\\appdata\\roaming\\python\\python313\\site-packages (from matplotlib) (24.2)\n",
            "Requirement already satisfied: pillow>=8 in c:\\users\\saibh\\appdata\\local\\programs\\python\\python313\\lib\\site-packages (from matplotlib) (11.1.0)\n",
            "Requirement already satisfied: pyparsing>=2.3.1 in c:\\users\\saibh\\appdata\\local\\programs\\python\\python313\\lib\\site-packages (from matplotlib) (3.2.2)\n",
            "Requirement already satisfied: python-dateutil>=2.7 in c:\\users\\saibh\\appdata\\local\\programs\\python\\python313\\lib\\site-packages (from matplotlib) (2.9.0.post0)\n",
            "Requirement already satisfied: pandas>=1.2 in c:\\users\\saibh\\appdata\\local\\programs\\python\\python313\\lib\\site-packages (from seaborn) (2.2.3)\n",
            "Requirement already satisfied: scipy in c:\\users\\saibh\\appdata\\local\\programs\\python\\python313\\lib\\site-packages (from shap) (1.15.2)\n",
            "Requirement already satisfied: tqdm>=4.27.0 in c:\\users\\saibh\\appdata\\local\\programs\\python\\python313\\lib\\site-packages (from shap) (4.67.1)\n",
            "Requirement already satisfied: slicer==0.0.8 in c:\\users\\saibh\\appdata\\local\\programs\\python\\python313\\lib\\site-packages (from shap) (0.0.8)\n",
            "Requirement already satisfied: numba>=0.54 in c:\\users\\saibh\\appdata\\local\\programs\\python\\python313\\lib\\site-packages (from shap) (0.61.0)\n",
            "Requirement already satisfied: cloudpickle in c:\\users\\saibh\\appdata\\local\\programs\\python\\python313\\lib\\site-packages (from shap) (3.1.1)\n",
            "Requirement already satisfied: typing-extensions in c:\\users\\saibh\\appdata\\local\\programs\\python\\python313\\lib\\site-packages (from shap) (4.12.2)\n",
            "Requirement already satisfied: threadpoolctl>=3.1.0 in c:\\users\\saibh\\appdata\\local\\programs\\python\\python313\\lib\\site-packages (from scikit-learn) (3.6.0)\n",
            "Requirement already satisfied: llvmlite<0.45,>=0.44.0dev0 in c:\\users\\saibh\\appdata\\local\\programs\\python\\python313\\lib\\site-packages (from numba>=0.54->shap) (0.44.0)\n",
            "Requirement already satisfied: pytz>=2020.1 in c:\\users\\saibh\\appdata\\local\\programs\\python\\python313\\lib\\site-packages (from pandas>=1.2->seaborn) (2024.2)\n",
            "Requirement already satisfied: tzdata>=2022.7 in c:\\users\\saibh\\appdata\\local\\programs\\python\\python313\\lib\\site-packages (from pandas>=1.2->seaborn) (2024.2)\n",
            "Requirement already satisfied: six>=1.5 in c:\\users\\saibh\\appdata\\local\\programs\\python\\python313\\lib\\site-packages (from python-dateutil>=2.7->matplotlib) (1.17.0)\n",
            "Requirement already satisfied: colorama in c:\\users\\saibh\\appdata\\local\\programs\\python\\python313\\lib\\site-packages (from tqdm>=4.27.0->shap) (0.4.6)\n",
            "Note: you may need to restart the kernel to use updated packages.\n"
          ]
        }
      ],
      "source": [
        "%pip install --upgrade pip\n",
        "%pip install matplotlib seaborn shap joblib scikit-learn"
      ]
    },
    {
      "cell_type": "code",
      "execution_count": null,
      "metadata": {
        "id": "lQAIOAr6n1Hk"
      },
      "outputs": [
        {
          "name": "stdout",
          "output_type": "stream",
          "text": [
            "Requirement already satisfied: matplotlib in c:\\users\\saibh\\appdata\\local\\programs\\python\\python313\\lib\\site-packages (3.10.1)\n",
            "Requirement already satisfied: contourpy>=1.0.1 in c:\\users\\saibh\\appdata\\local\\programs\\python\\python313\\lib\\site-packages (from matplotlib) (1.3.1)\n",
            "Requirement already satisfied: cycler>=0.10 in c:\\users\\saibh\\appdata\\local\\programs\\python\\python313\\lib\\site-packages (from matplotlib) (0.12.1)\n",
            "Requirement already satisfied: fonttools>=4.22.0 in c:\\users\\saibh\\appdata\\local\\programs\\python\\python313\\lib\\site-packages (from matplotlib) (4.56.0)\n",
            "Requirement already satisfied: kiwisolver>=1.3.1 in c:\\users\\saibh\\appdata\\local\\programs\\python\\python313\\lib\\site-packages (from matplotlib) (1.4.8)\n",
            "Requirement already satisfied: numpy>=1.23 in c:\\users\\saibh\\appdata\\local\\programs\\python\\python313\\lib\\site-packages (from matplotlib) (2.1.3)\n",
            "Requirement already satisfied: packaging>=20.0 in c:\\users\\saibh\\appdata\\roaming\\python\\python313\\site-packages (from matplotlib) (24.2)\n",
            "Requirement already satisfied: pillow>=8 in c:\\users\\saibh\\appdata\\local\\programs\\python\\python313\\lib\\site-packages (from matplotlib) (11.1.0)\n",
            "Requirement already satisfied: pyparsing>=2.3.1 in c:\\users\\saibh\\appdata\\local\\programs\\python\\python313\\lib\\site-packages (from matplotlib) (3.2.2)\n",
            "Requirement already satisfied: python-dateutil>=2.7 in c:\\users\\saibh\\appdata\\local\\programs\\python\\python313\\lib\\site-packages (from matplotlib) (2.9.0.post0)\n",
            "Requirement already satisfied: six>=1.5 in c:\\users\\saibh\\appdata\\local\\programs\\python\\python313\\lib\\site-packages (from python-dateutil>=2.7->matplotlib) (1.17.0)\n",
            "Note: you may need to restart the kernel to use updated packages.\n"
          ]
        },
        {
          "name": "stderr",
          "output_type": "stream",
          "text": [
            "\n",
            "[notice] A new release of pip is available: 24.2 -> 25.0.1\n",
            "[notice] To update, run: python.exe -m pip install --upgrade pip\n"
          ]
        },
        {
          "name": "stdout",
          "output_type": "stream",
          "text": [
            "Requirement already satisfied: seaborn in c:\\users\\saibh\\appdata\\local\\programs\\python\\python313\\lib\\site-packages (0.13.2)\n",
            "Requirement already satisfied: numpy!=1.24.0,>=1.20 in c:\\users\\saibh\\appdata\\local\\programs\\python\\python313\\lib\\site-packages (from seaborn) (2.1.3)\n",
            "Requirement already satisfied: pandas>=1.2 in c:\\users\\saibh\\appdata\\local\\programs\\python\\python313\\lib\\site-packages (from seaborn) (2.2.3)\n",
            "Requirement already satisfied: matplotlib!=3.6.1,>=3.4 in c:\\users\\saibh\\appdata\\local\\programs\\python\\python313\\lib\\site-packages (from seaborn) (3.10.1)\n",
            "Requirement already satisfied: contourpy>=1.0.1 in c:\\users\\saibh\\appdata\\local\\programs\\python\\python313\\lib\\site-packages (from matplotlib!=3.6.1,>=3.4->seaborn) (1.3.1)\n",
            "Requirement already satisfied: cycler>=0.10 in c:\\users\\saibh\\appdata\\local\\programs\\python\\python313\\lib\\site-packages (from matplotlib!=3.6.1,>=3.4->seaborn) (0.12.1)\n",
            "Requirement already satisfied: fonttools>=4.22.0 in c:\\users\\saibh\\appdata\\local\\programs\\python\\python313\\lib\\site-packages (from matplotlib!=3.6.1,>=3.4->seaborn) (4.56.0)\n",
            "Requirement already satisfied: kiwisolver>=1.3.1 in c:\\users\\saibh\\appdata\\local\\programs\\python\\python313\\lib\\site-packages (from matplotlib!=3.6.1,>=3.4->seaborn) (1.4.8)\n",
            "Requirement already satisfied: packaging>=20.0 in c:\\users\\saibh\\appdata\\roaming\\python\\python313\\site-packages (from matplotlib!=3.6.1,>=3.4->seaborn) (24.2)\n",
            "Requirement already satisfied: pillow>=8 in c:\\users\\saibh\\appdata\\local\\programs\\python\\python313\\lib\\site-packages (from matplotlib!=3.6.1,>=3.4->seaborn) (11.1.0)\n",
            "Requirement already satisfied: pyparsing>=2.3.1 in c:\\users\\saibh\\appdata\\local\\programs\\python\\python313\\lib\\site-packages (from matplotlib!=3.6.1,>=3.4->seaborn) (3.2.2)\n",
            "Requirement already satisfied: python-dateutil>=2.7 in c:\\users\\saibh\\appdata\\local\\programs\\python\\python313\\lib\\site-packages (from matplotlib!=3.6.1,>=3.4->seaborn) (2.9.0.post0)\n",
            "Requirement already satisfied: pytz>=2020.1 in c:\\users\\saibh\\appdata\\local\\programs\\python\\python313\\lib\\site-packages (from pandas>=1.2->seaborn) (2024.2)\n",
            "Requirement already satisfied: tzdata>=2022.7 in c:\\users\\saibh\\appdata\\local\\programs\\python\\python313\\lib\\site-packages (from pandas>=1.2->seaborn) (2024.2)\n",
            "Requirement already satisfied: six>=1.5 in c:\\users\\saibh\\appdata\\local\\programs\\python\\python313\\lib\\site-packages (from python-dateutil>=2.7->matplotlib!=3.6.1,>=3.4->seaborn) (1.17.0)\n",
            "Note: you may need to restart the kernel to use updated packages.\n"
          ]
        },
        {
          "name": "stderr",
          "output_type": "stream",
          "text": [
            "\n",
            "[notice] A new release of pip is available: 24.2 -> 25.0.1\n",
            "[notice] To update, run: python.exe -m pip install --upgrade pip\n"
          ]
        },
        {
          "name": "stdout",
          "output_type": "stream",
          "text": [
            "Requirement already satisfied: shap in c:\\users\\saibh\\appdata\\local\\programs\\python\\python313\\lib\\site-packages (0.47.1)\n",
            "Requirement already satisfied: numpy in c:\\users\\saibh\\appdata\\local\\programs\\python\\python313\\lib\\site-packages (from shap) (2.1.3)\n",
            "Requirement already satisfied: scipy in c:\\users\\saibh\\appdata\\local\\programs\\python\\python313\\lib\\site-packages (from shap) (1.15.2)\n",
            "Requirement already satisfied: scikit-learn in c:\\users\\saibh\\appdata\\local\\programs\\python\\python313\\lib\\site-packages (from shap) (1.6.1)\n",
            "Requirement already satisfied: pandas in c:\\users\\saibh\\appdata\\local\\programs\\python\\python313\\lib\\site-packages (from shap) (2.2.3)\n",
            "Requirement already satisfied: tqdm>=4.27.0 in c:\\users\\saibh\\appdata\\local\\programs\\python\\python313\\lib\\site-packages (from shap) (4.67.1)\n",
            "Requirement already satisfied: packaging>20.9 in c:\\users\\saibh\\appdata\\roaming\\python\\python313\\site-packages (from shap) (24.2)\n",
            "Requirement already satisfied: slicer==0.0.8 in c:\\users\\saibh\\appdata\\local\\programs\\python\\python313\\lib\\site-packages (from shap) (0.0.8)\n",
            "Requirement already satisfied: numba>=0.54 in c:\\users\\saibh\\appdata\\local\\programs\\python\\python313\\lib\\site-packages (from shap) (0.61.0)\n",
            "Requirement already satisfied: cloudpickle in c:\\users\\saibh\\appdata\\local\\programs\\python\\python313\\lib\\site-packages (from shap) (3.1.1)\n",
            "Requirement already satisfied: typing-extensions in c:\\users\\saibh\\appdata\\local\\programs\\python\\python313\\lib\\site-packages (from shap) (4.12.2)\n",
            "Requirement already satisfied: llvmlite<0.45,>=0.44.0dev0 in c:\\users\\saibh\\appdata\\local\\programs\\python\\python313\\lib\\site-packages (from numba>=0.54->shap) (0.44.0)\n",
            "Requirement already satisfied: colorama in c:\\users\\saibh\\appdata\\local\\programs\\python\\python313\\lib\\site-packages (from tqdm>=4.27.0->shap) (0.4.6)\n",
            "Requirement already satisfied: python-dateutil>=2.8.2 in c:\\users\\saibh\\appdata\\local\\programs\\python\\python313\\lib\\site-packages (from pandas->shap) (2.9.0.post0)\n",
            "Requirement already satisfied: pytz>=2020.1 in c:\\users\\saibh\\appdata\\local\\programs\\python\\python313\\lib\\site-packages (from pandas->shap) (2024.2)\n",
            "Requirement already satisfied: tzdata>=2022.7 in c:\\users\\saibh\\appdata\\local\\programs\\python\\python313\\lib\\site-packages (from pandas->shap) (2024.2)\n",
            "Requirement already satisfied: joblib>=1.2.0 in c:\\users\\saibh\\appdata\\local\\programs\\python\\python313\\lib\\site-packages (from scikit-learn->shap) (1.4.2)\n",
            "Requirement already satisfied: threadpoolctl>=3.1.0 in c:\\users\\saibh\\appdata\\local\\programs\\python\\python313\\lib\\site-packages (from scikit-learn->shap) (3.6.0)\n",
            "Requirement already satisfied: six>=1.5 in c:\\users\\saibh\\appdata\\local\\programs\\python\\python313\\lib\\site-packages (from python-dateutil>=2.8.2->pandas->shap) (1.17.0)\n",
            "Note: you may need to restart the kernel to use updated packages.\n"
          ]
        },
        {
          "name": "stderr",
          "output_type": "stream",
          "text": [
            "\n",
            "[notice] A new release of pip is available: 24.2 -> 25.0.1\n",
            "[notice] To update, run: python.exe -m pip install --upgrade pip\n"
          ]
        },
        {
          "name": "stdout",
          "output_type": "stream",
          "text": [
            "Requirement already satisfied: joblib in c:\\users\\saibh\\appdata\\local\\programs\\python\\python313\\lib\\site-packages (1.4.2)\n",
            "Note: you may need to restart the kernel to use updated packages.\n"
          ]
        },
        {
          "name": "stderr",
          "output_type": "stream",
          "text": [
            "\n",
            "[notice] A new release of pip is available: 24.2 -> 25.0.1\n",
            "[notice] To update, run: python.exe -m pip install --upgrade pip\n",
            "\n",
            "[notice] A new release of pip is available: 24.2 -> 25.0.1\n",
            "[notice] To update, run: python.exe -m pip install --upgrade pip\n"
          ]
        },
        {
          "name": "stdout",
          "output_type": "stream",
          "text": [
            "Requirement already satisfied: scikit-learn in c:\\users\\saibh\\appdata\\local\\programs\\python\\python313\\lib\\site-packages (1.6.1)\n",
            "Requirement already satisfied: numpy>=1.19.5 in c:\\users\\saibh\\appdata\\local\\programs\\python\\python313\\lib\\site-packages (from scikit-learn) (2.1.3)\n",
            "Requirement already satisfied: scipy>=1.6.0 in c:\\users\\saibh\\appdata\\local\\programs\\python\\python313\\lib\\site-packages (from scikit-learn) (1.15.2)\n",
            "Requirement already satisfied: joblib>=1.2.0 in c:\\users\\saibh\\appdata\\local\\programs\\python\\python313\\lib\\site-packages (from scikit-learn) (1.4.2)\n",
            "Requirement already satisfied: threadpoolctl>=3.1.0 in c:\\users\\saibh\\appdata\\local\\programs\\python\\python313\\lib\\site-packages (from scikit-learn) (3.6.0)\n",
            "Note: you may need to restart the kernel to use updated packages.\n"
          ]
        },
        {
          "name": "stderr",
          "output_type": "stream",
          "text": [
            "c:\\Users\\saibh\\AppData\\Local\\Programs\\Python\\Python313\\Lib\\site-packages\\tqdm\\auto.py:21: TqdmWarning: IProgress not found. Please update jupyter and ipywidgets. See https://ipywidgets.readthedocs.io/en/stable/user_install.html\n",
            "  from .autonotebook import tqdm as notebook_tqdm\n"
          ]
        },
        {
          "ename": "ModuleNotFoundError",
          "evalue": "No module named 'src'",
          "output_type": "error",
          "traceback": [
            "\u001b[31m---------------------------------------------------------------------------\u001b[39m",
            "\u001b[31mModuleNotFoundError\u001b[39m                       Traceback (most recent call last)",
            "\u001b[36mCell\u001b[39m\u001b[36m \u001b[39m\u001b[32mIn[1]\u001b[39m\u001b[32m, line 18\u001b[39m\n\u001b[32m     15\u001b[39m \u001b[38;5;28;01mimport\u001b[39;00m\u001b[38;5;250m \u001b[39m\u001b[34;01mjoblib\u001b[39;00m\n\u001b[32m     16\u001b[39m \u001b[38;5;28;01mfrom\u001b[39;00m\u001b[38;5;250m \u001b[39m\u001b[34;01msklearn\u001b[39;00m\u001b[34;01m.\u001b[39;00m\u001b[34;01mmodel_selection\u001b[39;00m\u001b[38;5;250m \u001b[39m\u001b[38;5;28;01mimport\u001b[39;00m train_test_split\n\u001b[32m---> \u001b[39m\u001b[32m18\u001b[39m \u001b[38;5;28;01mfrom\u001b[39;00m\u001b[38;5;250m \u001b[39m\u001b[34;01msrc\u001b[39;00m\u001b[38;5;250m \u001b[39m\u001b[38;5;28;01mimport\u001b[39;00m preprocess, model, utils\n",
            "\u001b[31mModuleNotFoundError\u001b[39m: No module named 'src'"
          ]
        }
      ],
      "source": [
        "# =============================================\n",
        "# 1️⃣ Import Libraries & Custom Modules\n",
        "# =============================================\n",
        "\n",
        "import pandas as pd\n",
        "import numpy as np\n",
        "import matplotlib.pyplot as plt\n",
        "import seaborn as sns\n",
        "import shap\n",
        "import joblib\n",
        "from sklearn.model_selection import train_test_split\n",
        "\n",
        "from src import preprocess, model, utils"
      ]
    },
    {
      "cell_type": "code",
      "execution_count": null,
      "metadata": {},
      "outputs": [],
      "source": [
        "# =============================================\n",
        "# 2️⃣ Load & Preprocess Data\n",
        "# =============================================\n",
        "\n",
        "# Load data\n",
        "df = preprocess.load_data('../data/Churn_Modelling.csv')\n",
        "\n",
        "# Clean data\n",
        "df = preprocess.clean_data(df)\n",
        "\n",
        "# Encode categorical features\n",
        "df = preprocess.encode_features(df)\n",
        "\n",
        "# Scale numerical features\n",
        "df = preprocess.scale_features(df)"
      ]
    },
    {
      "cell_type": "code",
      "execution_count": null,
      "metadata": {
        "id": "dGoxuPqItXco"
      },
      "outputs": [],
      "source": [
        "# =============================================\n",
        "# 3️⃣ EDA (Optional, basic visualizations)\n",
        "# =============================================\n",
        "\n",
        "print(df.head())\n",
        "\n",
        "# Target distribution\n",
        "sns.countplot(x='Exited', data=df)\n",
        "plt.title('Churn Distribution')\n",
        "plt.show()\n",
        "\n",
        "# Correlation heatmap\n",
        "plt.figure(figsize=(12,8))\n",
        "sns.heatmap(df.corr(), annot=False, cmap='coolwarm')\n",
        "plt.title('Correlation Heatmap')\n",
        "plt.show()"
      ]
    },
    {
      "cell_type": "code",
      "execution_count": null,
      "metadata": {
        "id": "3xvcKYI9tatV"
      },
      "outputs": [],
      "source": [
        "# =============================================\n",
        "# 4️⃣ Split Data\n",
        "# =============================================\n",
        "\n",
        "X = df.drop('Exited', axis=1)\n",
        "y = df['Exited']\n",
        "\n",
        "X_train, X_test, y_train, y_test = train_test_split(X, y, test_size=0.2, random_state=42, stratify=y)"
      ]
    },
    {
      "cell_type": "code",
      "execution_count": null,
      "metadata": {
        "id": "A-qwV8bZtdpa"
      },
      "outputs": [],
      "source": [
        "# =============================================\n",
        "# 5️⃣ Train Multiple Models\n",
        "# =============================================\n",
        "\n",
        "# Logistic Regression\n",
        "lr_model = model.train_logistic_regression(X_train, y_train)\n",
        "print(\"\\nLogistic Regression Evaluation:\")\n",
        "utils.evaluate_model(lr_model, X_test, y_test)\n",
        "utils.plot_roc(lr_model, X_test, y_test, \"Logistic Regression\")\n",
        "\n",
        "# Random Forest\n",
        "rf_model = model.train_random_forest(X_train, y_train)\n",
        "print(\"\\nRandom Forest Evaluation:\")\n",
        "utils.evaluate_model(rf_model, X_test, y_test)\n",
        "utils.plot_roc(rf_model, X_test, y_test, \"Random Forest\")\n",
        "\n",
        "# XGBoost\n",
        "xgb_model = model.train_xgboost(X_train, y_train)\n",
        "print(\"\\nXGBoost Evaluation:\")\n",
        "utils.evaluate_model(xgb_model, X_test, y_test)\n",
        "utils.plot_roc(xgb_model, X_test, y_test, \"XGBoost\")\n",
        "\n",
        "# LightGBM\n",
        "lgbm_model = model.train_lightgbm(X_train, y_train)\n",
        "print(\"\\nLightGBM Evaluation:\")\n",
        "utils.evaluate_model(lgbm_model, X_test, y_test)\n",
        "utils.plot_roc(lgbm_model, X_test, y_test, \"LightGBM\")"
      ]
    },
    {
      "cell_type": "code",
      "execution_count": null,
      "metadata": {
        "id": "1U-mmtO-tgZM"
      },
      "outputs": [],
      "source": [
        "# =============================================\n",
        "# 6️⃣ Model Explainability with SHAP\n",
        "# =============================================\n",
        "\n",
        "print(\"\\nCalculating SHAP values for XGBoost model...\")\n",
        "\n",
        "explainer = shap.Explainer(xgb_model)\n",
        "shap_values = explainer(X_test)\n",
        "\n",
        "shap.summary_plot(shap_values, X_test)"
      ]
    },
    {
      "cell_type": "code",
      "execution_count": null,
      "metadata": {
        "id": "Oni2cZCutixE"
      },
      "outputs": [],
      "source": [
        "# =============================================\n",
        "# 7️⃣ Save Final Model\n",
        "# =============================================\n",
        "\n",
        "joblib.dump(xgb_model, '../outputs/churn_model.pkl')\n",
        "print(\"\\n✅ Final XGBoost model saved to outputs/churn_model.pkl\")"
      ]
    }
  ],
  "metadata": {
    "colab": {
      "provenance": []
    },
    "kernelspec": {
      "display_name": "Python 3",
      "name": "python3"
    },
    "language_info": {
      "codemirror_mode": {
        "name": "ipython",
        "version": 3
      },
      "file_extension": ".py",
      "mimetype": "text/x-python",
      "name": "python",
      "nbconvert_exporter": "python",
      "pygments_lexer": "ipython3",
      "version": "3.13.0"
    }
  },
  "nbformat": 4,
  "nbformat_minor": 0
}
